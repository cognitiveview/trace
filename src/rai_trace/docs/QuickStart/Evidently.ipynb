{
 "cells": [
  {
   "cell_type": "markdown",
   "id": "67199730",
   "metadata": {},
   "source": [
    "## Evidently configuration Guide\n",
    "\n",
    "This notebook demonstrates the basic usage of the `evidently` library. We'll cover:\n",
    "\n",
    "- Logging test cases  \n",
    "- Running evaluations  \n",
    "- Viewing and saving results locally  \n",
    "- Evaluating Evidently metrics through the Trace metrics API\n"
   ]
  },
  {
   "cell_type": "code",
   "execution_count": null,
   "id": "751325ed",
   "metadata": {},
   "outputs": [],
   "source": [
    "!pip install sentence-transformers\n",
    "!pip install -U evidently pandas"
   ]
  },
  {
   "cell_type": "code",
   "execution_count": 2,
   "id": "6f4b70c4",
   "metadata": {},
   "outputs": [
    {
     "name": "stdout",
     "output_type": "stream",
     "text": [
      "0.7.9\n"
     ]
    }
   ],
   "source": [
    "import evidently\n",
    "print(evidently.__version__)"
   ]
  },
  {
   "cell_type": "markdown",
   "id": "8e51b6b0",
   "metadata": {},
   "source": [
    "### Imports Explained\n",
    "\n",
    "This script uses the **Evidently** library to evaluate LLM (Large Language Model) outputs using a variety of built-in descriptors. Here’s a breakdown of what each import does:\n",
    "\n",
    "\n",
    "#### Evidently Core\n",
    "\n",
    "```python\n",
    "from evidently import Dataset\n",
    "from evidently import DataDefinition\n",
    "```\n",
    "\n",
    "- **`Dataset`**: Represents the input data for evaluation (typically a `pandas.DataFrame`).\n",
    "- **`DataDefinition`**: Defines the structure of the dataset (e.g., which column contains the output text, reference, context, etc.).\n",
    "\n",
    "---\n",
    "\n",
    "#### Evidently Descriptors\n",
    "\n",
    "```python\n",
    "from evidently.descriptors import (\n",
    "    DeclineLLMEval,\n",
    "    Sentiment,\n",
    "    TextLength,\n",
    "    NegativityLLMEval,\n",
    "    PIILLMEval,\n",
    "    BiasLLMEval,\n",
    "    ToxicityLLMEval,\n",
    "    ContextQualityLLMEval,\n",
    "    ContextRelevance\n",
    ")\n",
    "```\n",
    "\n",
    "These are **prebuilt descriptors** that evaluate specific aspects of LLM-generated responses:\n",
    "\n",
    "- **`DeclineLLMEval`**: Detects if the model declined to answer (e.g., refused or deferred).\n",
    "- **`Sentiment`**: Analyzes the sentiment (positive, neutral, or negative) of the output.\n",
    "- **`TextLength`**: Measures the number of words or characters in the text.\n",
    "- **`NegativityLLMEval`**: Evaluates the level of negativity in the generated text.\n",
    "- **`PIILLMEval`**: Detects whether Personally Identifiable Information (PII) is present.\n",
    "- **`BiasLLMEval`**: Detects possible social, cultural, or political biases in responses.\n",
    "- **`ToxicityLLMEval`**: Identifies toxic or harmful content in the output.\n",
    "- **`ContextQualityLLMEval`**: Measures how well the context is used or preserved in the output.\n",
    "- **`ContextRelevance`**: Evaluates whether the response is relevant to the provided context.\n",
    "\n",
    "---\n",
    "\n",
    "These descriptors allow automated, explainable evaluation of LLM responses using a consistent and extensible framework.\n",
    "\n"
   ]
  }
 ],
 "metadata": {
  "kernelspec": {
   "display_name": "Python 3",
   "language": "python",
   "name": "python3"
  },
  "language_info": {
   "codemirror_mode": {
    "name": "ipython",
    "version": 3
   },
   "file_extension": ".py",
   "mimetype": "text/x-python",
   "name": "python",
   "nbconvert_exporter": "python",
   "pygments_lexer": "ipython3",
   "version": "3.12.0"
  }
 },
 "nbformat": 4,
 "nbformat_minor": 5
}
